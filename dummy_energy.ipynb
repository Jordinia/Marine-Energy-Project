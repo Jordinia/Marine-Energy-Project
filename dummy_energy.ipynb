{
 "cells": [
  {
   "cell_type": "code",
   "execution_count": 12,
   "id": "6c8bc37e-c27a-4c51-a474-ba0a99f139af",
   "metadata": {},
   "outputs": [],
   "source": [
    "import pandas as pd\n",
    "import numpy as np\n",
    "import os\n",
    "\n",
    "def generate_dummy_data(num_rows=100, seed=42):\n",
    "    \"\"\"Generates a dummy dataset for ship energy prediction.\"\"\"\n",
    "    np.random.seed(seed)\n",
    "    data = {\n",
    "        'resistance': np.random.uniform(4, 6, num_rows),\n",
    "        'power': np.random.uniform(27, 40, num_rows),\n",
    "        'torque': np.random.uniform(4500, 7500, num_rows),\n",
    "        'duration': np.random.randint(3, 20, num_rows),  # Duration between 1 and 30 days\n",
    "    }\n",
    "\n",
    "    df = pd.DataFrame(data)\n",
    "\n",
    "    # Create a relationship between duration and distance\n",
    "    df['distance'] = df['duration'] * np.random.uniform(40, 50, num_rows) # KM, Distance scales with duration\n",
    "\n",
    "    # Simulate fuel consumption and convert to total energy\n",
    "    # Assumptions:\n",
    "    # - Fuel consumption per hour is related to power (simplified linear relationship for demonstration).\n",
    "    # - Conversion factor from liters to kWh (adjust based on fuel type).  This is a rough estimate; a more precise calculation would involve specific fuel properties.\n",
    "    fuel_consumption_per_hour = df['power'] * 0.15 + 1  # Example relationship, adjust as needed\n",
    "    fuel_consumption_total = fuel_consumption_per_hour * df['duration'] * 24\n",
    "    fuel_to_kwh_conversion = 10  # Example conversion factor, adjust as needed (diesel is ~10 kWh/L)\n",
    "    df['total_energy'] = fuel_consumption_total * fuel_to_kwh_conversion\n",
    "\n",
    "    return df\n",
    "\n",
    "\n"
   ]
  },
  {
   "cell_type": "code",
   "execution_count": 13,
   "id": "0647727d-2e5d-45f5-bd5d-ff144b0698b8",
   "metadata": {},
   "outputs": [
    {
     "name": "stdout",
     "output_type": "stream",
     "text": [
      "   resistance      power       torque  duration    distance  total_energy\n",
      "0    4.749080  35.346411  4809.371607         7  314.045024  10587.295673\n",
      "1    5.901429  28.093820  7207.658720        12  529.074621  15016.530043\n",
      "2    5.463988  29.101173  6015.757117         8  381.750558  10301.137906\n",
      "3    5.197317  38.681204  6979.372398         3  120.366092   4897.570081\n",
      "4    4.312037  34.883578  5460.148803         7  321.890989  10470.661599\n",
      "File saved: synthetic_data/dummy_engine_data.csv\n"
     ]
    }
   ],
   "source": [
    "#Generate data for engine data\n",
    "num_samples = 1000\n",
    "output_dir = \"synthetic_data\"  # Reusing the same directory\n",
    "file_name = \"dummy_engine_data.csv\"\n",
    "\n",
    "# Ensure output directory exists\n",
    "os.makedirs(output_dir, exist_ok=True)\n",
    "\n",
    "# Generate a dataset with 200 rows\n",
    "dummy_data = generate_dummy_data(200)\n",
    "print(dummy_data.head())\n",
    "\n",
    "# Save as a single CSV file\n",
    "file_path = os.path.join(output_dir, file_name)\n",
    "dummy_data.to_csv(file_path, index=False)\n",
    "print(f\"File saved: {file_path}\")"
   ]
  },
  {
   "cell_type": "code",
   "execution_count": null,
   "id": "d2d0049f-9049-4412-887f-c2d81692fdde",
   "metadata": {},
   "outputs": [],
   "source": []
  }
 ],
 "metadata": {
  "kernelspec": {
   "display_name": "tf-wsl",
   "language": "python",
   "name": "python3"
  },
  "language_info": {
   "codemirror_mode": {
    "name": "ipython",
    "version": 3
   },
   "file_extension": ".py",
   "mimetype": "text/x-python",
   "name": "python",
   "nbconvert_exporter": "python",
   "pygments_lexer": "ipython3",
   "version": "3.9.19"
  }
 },
 "nbformat": 4,
 "nbformat_minor": 5
}
