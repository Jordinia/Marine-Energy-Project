{
 "cells": [
  {
   "cell_type": "code",
   "execution_count": 1,
   "id": "2b080d53-fd85-4d5a-915a-1e62bc04a004",
   "metadata": {},
   "outputs": [],
   "source": [
    "import torch\n",
    "import torch.nn as nn\n",
    "import numpy as np\n",
    "import torch.optim as optim\n",
    "from torch.utils.data import DataLoader, TensorDataset"
   ]
  },
  {
   "cell_type": "code",
   "execution_count": 2,
   "id": "d9cf7047-9ef8-4b03-8336-fe8c1ca06c37",
   "metadata": {},
   "outputs": [],
   "source": [
    "class Seq2Seq(nn.Module):\n",
    "    def __init__(self, sequence_length, num_features, static_dim, output_dim):\n",
    "        super(Seq2Seq, self).__init__()\n",
    "        self.encoder = nn.GRU(num_features, 128, batch_first=True) #128 adalah hidden_dim\n",
    "        self.decoder = nn.GRU(num_features, 128, batch_first=True)\n",
    "        self.fc1 = nn.Linear(sequence_length * 128 + static_dim, 64)  # For regression, use the entire sequence\n",
    "        self.fc2 = nn.Linear(64, 32)\n",
    "        self.fc3 = nn.Linear(32, output_dim)\n",
    "        self.fc4 = nn.Linear(sequence_length * 128, 64)  # For classification, use the entire sequence\n",
    "\n",
    "    def forward(self, timeseries_input, static_input):\n",
    "        _, hidden = self.encoder(timeseries_input)\n",
    "        decoder_input = torch.zeros_like(timeseries_input)  # Initialize decoder input with zeros\n",
    "        gru_output_seq, _ = self.decoder(decoder_input, hidden)\n",
    "\n",
    "        # Use the entire sequence for regression\n",
    "        gru_output_seq_flat = gru_output_seq.contiguous().view(gru_output_seq.size(0), -1)\n",
    "        concatenated = torch.cat((gru_output_seq_flat, static_input), dim=1)\n",
    "        x = torch.relu(self.fc1(concatenated))\n",
    "        x = torch.relu(self.fc2(x))\n",
    "        regression = self.fc3(x)\n",
    "\n",
    "        # Use the entire sequence for classification\n",
    "        # y = torch.relu(self.fc4(gru_output_seq_flat))\n",
    "        # y = torch.relu(self.fc2(y))\n",
    "        # classif = torch.sigmoid(self.fc3(y))\n",
    "\n",
    "        return regression"
   ]
  },
  {
   "cell_type": "code",
   "execution_count": 3,
   "id": "63ce7d9a-82ea-4890-a171-a43941b01cbe",
   "metadata": {},
   "outputs": [],
   "source": [
    "sequence_length = 10\n",
    "num_features = 5  # number of features in the input sequence\n",
    "static_dim = 3\n",
    "output_dim = 1  # output dimension for regression\n",
    "batch_size = 32\n",
    "num_epochs = 10\n",
    "\n"
   ]
  },
  {
   "cell_type": "code",
   "execution_count": 5,
   "id": "2992e4a6-4287-4aa6-ad4e-a402e6f11c31",
   "metadata": {},
   "outputs": [],
   "source": [
    "def generate_data(num_samples, sequence_length, num_features, static_dim):\n",
    "    timeseries_data = np.random.rand(num_samples, sequence_length, num_features)\n",
    "    static_data = np.random.rand(num_samples, static_dim)\n",
    "    regression_labels = np.random.rand(num_samples, output_dim)  # Continuous labels for regression\n",
    "    #classification_labels = np.random.randint(0, 2, size=(num_samples, 1))  # Binary labels for classification\n",
    "    return timeseries_data, static_data, regression_labels\n",
    "\n",
    "num_samples = 1000\n",
    "timeseries_data, static_data, regression_labels= generate_data(num_samples, sequence_length, num_features, static_dim)"
   ]
  },
  {
   "cell_type": "code",
   "execution_count": 6,
   "id": "294f8ad3-5ab0-470e-ac99-b719cb98d77a",
   "metadata": {},
   "outputs": [],
   "source": [
    "timeseries_data = torch.tensor(timeseries_data, dtype=torch.float32)\n",
    "static_data = torch.tensor(static_data, dtype=torch.float32)\n",
    "regression_labels = torch.tensor(regression_labels, dtype=torch.float32)\n",
    "\n",
    "\n",
    "train_size = int(0.8 * num_samples)\n",
    "train_dataset = TensorDataset(timeseries_data[:train_size], static_data[:train_size], regression_labels[:train_size])\n",
    "val_dataset = TensorDataset(timeseries_data[train_size:], static_data[train_size:], regression_labels[train_size:])\n",
    "\n",
    "train_loader = DataLoader(train_dataset, batch_size=batch_size, shuffle=True)\n",
    "val_loader = DataLoader(val_dataset, batch_size=batch_size)"
   ]
  },
  {
   "cell_type": "code",
   "execution_count": 7,
   "id": "1cb19da2-ce5e-4559-893a-ae31af7d15a5",
   "metadata": {},
   "outputs": [],
   "source": [
    "model = Seq2Seq(sequence_length, num_features, static_dim, output_dim)\n",
    "regression_criterion = nn.MSELoss()\n",
    "classification_criterion = nn.BCEWithLogitsLoss()\n",
    "optimizer = optim.Adam(model.parameters(), lr=0.001)"
   ]
  },
  {
   "cell_type": "code",
   "execution_count": 10,
   "id": "8cf2d10c-e7d4-48d9-8f4e-04e42ba6214f",
   "metadata": {},
   "outputs": [
    {
     "name": "stdout",
     "output_type": "stream",
     "text": [
      "Epoch 1/10, Validation Loss: 0.0869\n",
      "Epoch 2/10, Validation Loss: 0.0894\n",
      "Epoch 3/10, Validation Loss: 0.0840\n",
      "Epoch 4/10, Validation Loss: 0.0857\n",
      "Epoch 5/10, Validation Loss: 0.0823\n",
      "Epoch 6/10, Validation Loss: 0.0866\n",
      "Epoch 7/10, Validation Loss: 0.0828\n",
      "Epoch 8/10, Validation Loss: 0.0882\n",
      "Epoch 9/10, Validation Loss: 0.0883\n",
      "Epoch 10/10, Validation Loss: 0.0826\n"
     ]
    }
   ],
   "source": [
    "for epoch in range(num_epochs):\n",
    "    model.train()\n",
    "    for timeseries_batch, static_batch, regression_labels_batch in train_loader:\n",
    "        optimizer.zero_grad()\n",
    "        regression_outputs = model(timeseries_batch, static_batch)\n",
    "        regression_loss = regression_criterion(regression_outputs, regression_labels_batch)\n",
    "        loss = regression_loss\n",
    "        loss.backward()\n",
    "        optimizer.step()\n",
    "\n",
    "    # Validation\n",
    "    model.eval()\n",
    "    val_loss = 0\n",
    "    with torch.no_grad():\n",
    "        for timeseries_batch, static_batch, regression_labels_batch in val_loader:\n",
    "            regression_outputs = model(timeseries_batch, static_batch)\n",
    "            regression_loss = regression_criterion(regression_outputs, regression_labels_batch)\n",
    "            loss = regression_loss \n",
    "            val_loss += loss.item()\n",
    "    val_loss /= len(val_loader)\n",
    "    print(f\"Epoch {epoch+1}/{num_epochs}, Validation Loss: {val_loss:.4f}\")"
   ]
  },
  {
   "cell_type": "code",
   "execution_count": null,
   "id": "f37fcf54-76bc-47ad-a7fc-2dce009015b7",
   "metadata": {},
   "outputs": [],
   "source": []
  }
 ],
 "metadata": {
  "kernelspec": {
   "display_name": "Python 3 (ipykernel)",
   "language": "python",
   "name": "python3"
  },
  "language_info": {
   "codemirror_mode": {
    "name": "ipython",
    "version": 3
   },
   "file_extension": ".py",
   "mimetype": "text/x-python",
   "name": "python",
   "nbconvert_exporter": "python",
   "pygments_lexer": "ipython3",
   "version": "3.9.19"
  }
 },
 "nbformat": 4,
 "nbformat_minor": 5
}
